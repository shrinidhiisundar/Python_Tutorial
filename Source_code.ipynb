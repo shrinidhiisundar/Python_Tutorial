{
 "cells": [
  {
   "cell_type": "markdown",
   "metadata": {},
   "source": [
    "## PYTHON SCRIPT"
   ]
  },
  {
   "cell_type": "code",
   "execution_count": 1,
   "metadata": {},
   "outputs": [
    {
     "name": "stdout",
     "output_type": "stream",
     "text": [
      "Hello World!\n"
     ]
    }
   ],
   "source": [
    "print(\"Hello World!\")"
   ]
  },
  {
   "cell_type": "code",
   "execution_count": 16,
   "metadata": {},
   "outputs": [],
   "source": [
    "# python has no command for variable type declaration\n",
    "x = 5 #int declaration\n",
    "y = \"Hello, World!\" #string declaration\n",
    "z = 'a' #char declaration\n",
    "#single and double quotes doesnt matter\n",
    "#variable names are case sensitive"
   ]
  },
  {
   "cell_type": "code",
   "execution_count": 12,
   "metadata": {},
   "outputs": [
    {
     "name": "stdout",
     "output_type": "stream",
     "text": [
      "5\n",
      "Hello, World!\n",
      "a\n"
     ]
    }
   ],
   "source": [
    "print(x)\n",
    "print(y)\n",
    "print(z)"
   ]
  },
  {
   "cell_type": "code",
   "execution_count": 13,
   "metadata": {},
   "outputs": [],
   "source": [
    "#Variable Casting\n",
    "x1 = str(3)    # x will be '3'\n",
    "y1 = int(3)    # y will be 3\n",
    "z1 = float(3)  # z will be 3.0\n"
   ]
  },
  {
   "cell_type": "code",
   "execution_count": 14,
   "metadata": {},
   "outputs": [
    {
     "name": "stdout",
     "output_type": "stream",
     "text": [
      "3\n",
      "3\n",
      "3.0\n"
     ]
    }
   ],
   "source": [
    "print(x1)\n",
    "print(y1)\n",
    "print(z1)"
   ]
  },
  {
   "cell_type": "code",
   "execution_count": 15,
   "metadata": {},
   "outputs": [
    {
     "name": "stdout",
     "output_type": "stream",
     "text": [
      "<class 'int'>\n",
      "<class 'str'>\n"
     ]
    }
   ],
   "source": [
    "#Get the variable type\n",
    "x = 5\n",
    "y = \"John\"\n",
    "print(type(x))\n",
    "print(type(y))"
   ]
  },
  {
   "cell_type": "markdown",
   "metadata": {},
   "source": [
    "### Variable names\n",
    "* A variable name must start with a letter or the underscore character\n",
    "* A variable name cannot start with a number\n",
    "* A variable name can only contain alpha-numeric characters and underscores (A-z, 0-9, and _ )\n",
    "* Variable names are case-sensitive (age, Age and AGE are three different variables)"
   ]
  },
  {
   "cell_type": "code",
   "execution_count": 17,
   "metadata": {},
   "outputs": [],
   "source": [
    "# Legal Variable names\n",
    "myvar = \"John\"\n",
    "my_var = \"John\"\n",
    "_my_var = \"John\"\n",
    "myVar = \"John\"\n",
    "MYVAR = \"John\"\n",
    "myvar2 = \"John\""
   ]
  },
  {
   "cell_type": "code",
   "execution_count": 18,
   "metadata": {},
   "outputs": [
    {
     "ename": "SyntaxError",
     "evalue": "invalid syntax (<ipython-input-18-19e27ecc5736>, line 2)",
     "output_type": "error",
     "traceback": [
      "\u001b[1;36m  File \u001b[1;32m\"<ipython-input-18-19e27ecc5736>\"\u001b[1;36m, line \u001b[1;32m2\u001b[0m\n\u001b[1;33m    2myvar = \"John\"\u001b[0m\n\u001b[1;37m     ^\u001b[0m\n\u001b[1;31mSyntaxError\u001b[0m\u001b[1;31m:\u001b[0m invalid syntax\n"
     ]
    }
   ],
   "source": [
    "#Illegal variable names\n",
    "2myvar = \"John\"\n",
    "my-var = \"John\"\n",
    "my var = \"John\""
   ]
  },
  {
   "cell_type": "code",
   "execution_count": 19,
   "metadata": {},
   "outputs": [],
   "source": [
    "#Naming convention\n",
    "#Camel case\n",
    "#Each word, except the first, starts with a capital letter\n",
    "myVariableName = \"John\"\n",
    "\n",
    "#Pascal case\n",
    "#Each word, except the first, starts with a capital letter\n",
    "MyVariableName = \"John\"\n",
    "\n",
    "#Snake case\n",
    "#Each word is separated by an underscore character\n",
    "my_variable_name = \"John\""
   ]
  },
  {
   "cell_type": "code",
   "execution_count": 20,
   "metadata": {},
   "outputs": [],
   "source": [
    "#Assigning values to variables\n",
    "#Many values to multiple variable \n",
    "x, y, z = \"Orange\", \"Banana\", \"Cherry\"\n",
    "\n",
    "#One value to multiple variables\n",
    "x = y = z = \"Orange\""
   ]
  },
  {
   "cell_type": "code",
   "execution_count": 22,
   "metadata": {},
   "outputs": [],
   "source": [
    "#Unpack a collection (list, tuple)\n",
    "fruits = [\"apple\", \"banana\", \"cherry\"]\n",
    "x, y, z = fruits"
   ]
  },
  {
   "cell_type": "code",
   "execution_count": 39,
   "metadata": {},
   "outputs": [
    {
     "name": "stdout",
     "output_type": "stream",
     "text": [
      "Python is awesome\n",
      "Python is awesome\n",
      "Python is  awesome\n",
      "15\n"
     ]
    },
    {
     "ename": "TypeError",
     "evalue": "unsupported operand type(s) for +: 'int' and 'str'",
     "output_type": "error",
     "traceback": [
      "\u001b[1;31m---------------------------------------------------------------------------\u001b[0m",
      "\u001b[1;31mTypeError\u001b[0m                                 Traceback (most recent call last)",
      "\u001b[1;32m<ipython-input-39-83c3cb694d11>\u001b[0m in \u001b[0;36m<module>\u001b[1;34m\u001b[0m\n\u001b[0;32m     23\u001b[0m \u001b[0mx4\u001b[0m \u001b[1;33m=\u001b[0m \u001b[1;36m5\u001b[0m\u001b[1;33m\u001b[0m\u001b[1;33m\u001b[0m\u001b[0m\n\u001b[0;32m     24\u001b[0m \u001b[0my4\u001b[0m \u001b[1;33m=\u001b[0m \u001b[1;34m'JOHN'\u001b[0m\u001b[1;33m\u001b[0m\u001b[1;33m\u001b[0m\u001b[0m\n\u001b[1;32m---> 25\u001b[1;33m \u001b[0mprint\u001b[0m\u001b[1;33m(\u001b[0m\u001b[0mx4\u001b[0m \u001b[1;33m+\u001b[0m \u001b[0my4\u001b[0m\u001b[1;33m)\u001b[0m\u001b[1;33m\u001b[0m\u001b[1;33m\u001b[0m\u001b[0m\n\u001b[0m",
      "\u001b[1;31mTypeError\u001b[0m: unsupported operand type(s) for +: 'int' and 'str'"
     ]
    }
   ],
   "source": [
    "# Output appending\n",
    "#valid\n",
    "x1 = \"awesome\"\n",
    "print(\"Python is \" + x1)\n",
    "\n",
    "#adding two string\n",
    "#valid\n",
    "x2 = \"Python is \"\n",
    "y2 = \"awesome\"\n",
    "z2=  x2 + y2\n",
    "print(z2)\n",
    "#space inbetween\n",
    "print (x2+\" \"+y2)\n",
    "\n",
    "#adding two int\n",
    "#valid\n",
    "x3 = 5\n",
    "y3 = 10\n",
    "print(x3 + y3)\n",
    "\n",
    "#int+str\n",
    "#error\n",
    "x4 = 5\n",
    "y4 = 'JOHN'\n",
    "print(x4 + y4)\n"
   ]
  },
  {
   "cell_type": "code",
   "execution_count": 26,
   "metadata": {},
   "outputs": [
    {
     "name": "stdout",
     "output_type": "stream",
     "text": [
      "7\n"
     ]
    }
   ],
   "source": [
    "# Random number generation\n",
    "import random\n",
    "\n",
    "print(random.randrange(1, 10))"
   ]
  },
  {
   "cell_type": "code",
   "execution_count": 28,
   "metadata": {},
   "outputs": [],
   "source": [
    "#Casting\n",
    "#int casting\n",
    "x1 = int(1)   # x will be 1\n",
    "y1 = int(2.8) # y will be 2\n",
    "z1 = int(\"3\") # z will be 3\n",
    "\n",
    "#float casting\n",
    "x2 = float(1)     # x will be 1.0\n",
    "y2 = float(2.8)   # y will be 2.8\n",
    "z2 = float(\"3\")   # z will be 3.0\n",
    "w2 = float(\"4.2\") # w will be 4.2\n",
    "\n",
    "#string casting\n",
    "x3 = str(\"s1\") # x will be 's1'\n",
    "y3 = str(2)    # y will be '2'\n",
    "z3 = str(3.0)  # z will be '3.0'"
   ]
  },
  {
   "cell_type": "code",
   "execution_count": 29,
   "metadata": {},
   "outputs": [
    {
     "name": "stdout",
     "output_type": "stream",
     "text": [
      "Lorem ipsum dolor sit amet,\n",
      "consectetur adipiscing elit,\n",
      "sed do eiusmod tempor incididunt\n",
      "ut labore et dolore magna aliqua.\n"
     ]
    }
   ],
   "source": [
    "# Multi line string\n",
    "a = \"\"\"Lorem ipsum dolor sit amet,\n",
    "consectetur adipiscing elit,\n",
    "sed do eiusmod tempor incididunt\n",
    "ut labore et dolore magna aliqua.\"\"\"\n",
    "print(a)"
   ]
  },
  {
   "cell_type": "code",
   "execution_count": 32,
   "metadata": {},
   "outputs": [
    {
     "name": "stdout",
     "output_type": "stream",
     "text": [
      "e\n",
      "b\n",
      "a\n",
      "n\n",
      "a\n",
      "n\n",
      "a\n",
      "13\n",
      "True\n",
      "Yes, 'free' is present.\n",
      "True\n",
      "Yes, 'expensive' is NOT present.\n"
     ]
    }
   ],
   "source": [
    "# String arrays\n",
    "a = \"Hello, World!\"\n",
    "print(a[1])\n",
    "\n",
    "#loop through a string\n",
    "for x in \"banana\":\n",
    "  print(x)\n",
    "\n",
    "#length of a string\n",
    "a = \"Hello, World!\"\n",
    "print(len(a))\n",
    "\n",
    "#check string\n",
    "txt = \"The best things in life are free!\"\n",
    "print(\"free\" in txt)\n",
    "\n",
    "#using if\n",
    "txt = \"The best things in life are free!\"\n",
    "if \"free\" in txt:\n",
    "  print(\"Yes, 'free' is present.\")\n",
    "\n",
    "#check if not\n",
    "txt = \"The best things in life are free!\"\n",
    "print(\"expensive\" not in txt)\n",
    "\n",
    "#using if\n",
    "txt = \"The best things in life are free!\"\n",
    "if \"expensive\" not in txt:\n",
    "  print(\"Yes, 'expensive' is NOT present.\")"
   ]
  },
  {
   "cell_type": "code",
   "execution_count": 35,
   "metadata": {},
   "outputs": [
    {
     "name": "stdout",
     "output_type": "stream",
     "text": [
      "llo\n",
      "Hello\n",
      "llo, World!\n",
      "orl\n"
     ]
    }
   ],
   "source": [
    "# String Splicing\n",
    "b = \"Hello, World!\"\n",
    "\n",
    "#between two positions (position 5 not included)\n",
    "print(b[2:5])\n",
    "\n",
    "#from start\n",
    "print(b[:5])\n",
    "\n",
    "#to end\n",
    "print(b[2:])\n",
    "\n",
    "#negative indexing\n",
    "print(b[-5:-2])"
   ]
  },
  {
   "cell_type": "code",
   "execution_count": 37,
   "metadata": {},
   "outputs": [
    {
     "name": "stdout",
     "output_type": "stream",
     "text": [
      "HELLO, WORLD!\n",
      "hello, world!\n",
      "Hello, World!\n",
      "Jello, World!\n",
      "['Hello', ' World!']\n"
     ]
    }
   ],
   "source": [
    "#String modifications\n",
    "a = \"Hello, World!\"\n",
    "\n",
    "#upper\n",
    "print(a.upper())\n",
    "\n",
    "#lower\n",
    "print(a.lower())\n",
    "\n",
    "#remove white space\n",
    "a = \" Hello, World! \"\n",
    "print(a.strip()) # returns \"Hello, World!\"\n",
    "\n",
    "#string replace\n",
    "a = \"Hello, World!\"\n",
    "print(a.replace(\"H\", \"J\"))\n",
    "\n",
    "#split string to a  list\n",
    "a = \"Hello, World!\"\n",
    "print(a.split(\",\")) # returns ['Hello', ' World!']"
   ]
  },
  {
   "cell_type": "code",
   "execution_count": 41,
   "metadata": {},
   "outputs": [
    {
     "name": "stdout",
     "output_type": "stream",
     "text": [
      "My name is John, and I am 36\n",
      "I want 3 pieces of item 567 for 49.95 dollars.\n",
      "I want to pay 49.95 dollars for 3 pieces of item 567.\n"
     ]
    }
   ],
   "source": [
    "#String format\n",
    "age = 36\n",
    "txt = \"My name is John, and I am {}\"\n",
    "print(txt.format(age))\n",
    "\n",
    "quantity = 3\n",
    "itemno = 567\n",
    "price = 49.95\n",
    "myorder = \"I want {} pieces of item {} for {} dollars.\"\n",
    "print(myorder.format(quantity, itemno, price))\n",
    "\n",
    "#using index number\n",
    "quantity = 3\n",
    "itemno = 567\n",
    "price = 49.95\n",
    "myorder = \"I want to pay {2} dollars for {0} pieces of item {1}.\"\n",
    "print(myorder.format(quantity, itemno, price))"
   ]
  },
  {
   "cell_type": "code",
   "execution_count": 42,
   "metadata": {},
   "outputs": [
    {
     "ename": "SyntaxError",
     "evalue": "invalid syntax (<ipython-input-42-bac0f7ad2f82>, line 2)",
     "output_type": "error",
     "traceback": [
      "\u001b[1;36m  File \u001b[1;32m\"<ipython-input-42-bac0f7ad2f82>\"\u001b[1;36m, line \u001b[1;32m2\u001b[0m\n\u001b[1;33m    Refer \"https://www.w3schools.com/python/python_strings_methods.asp\"\u001b[0m\n\u001b[1;37m          ^\u001b[0m\n\u001b[1;31mSyntaxError\u001b[0m\u001b[1;31m:\u001b[0m invalid syntax\n"
     ]
    }
   ],
   "source": [
    "#String methods\n",
    "Refer \"https://www.w3schools.com/python/python_strings_methods.asp\""
   ]
  },
  {
   "cell_type": "markdown",
   "metadata": {},
   "source": [
    "### OPERATORS\n",
    "* Arithmetic operators\n",
    "* Assignment operators\n",
    "* Comparison operators\n",
    "* Logical operators\n",
    "* Identity operators\n",
    "* Membership operators\n",
    "* Bitwise operators"
   ]
  },
  {
   "cell_type": "code",
   "execution_count": 43,
   "metadata": {},
   "outputs": [
    {
     "ename": "SyntaxError",
     "evalue": "invalid syntax (<ipython-input-43-7d9fbf370778>, line 2)",
     "output_type": "error",
     "traceback": [
      "\u001b[1;36m  File \u001b[1;32m\"<ipython-input-43-7d9fbf370778>\"\u001b[1;36m, line \u001b[1;32m2\u001b[0m\n\u001b[1;33m    +,-,*,/,//,%,**\u001b[0m\n\u001b[1;37m     ^\u001b[0m\n\u001b[1;31mSyntaxError\u001b[0m\u001b[1;31m:\u001b[0m invalid syntax\n"
     ]
    }
   ],
   "source": [
    "#Arithmetic operators\n",
    "+,-,*,/,//,%,**\n",
    "\n",
    "#Assignment operators\n",
    "=,+=,-=,*=,/=,%=,//=,**=,&=,|=,^=,>>=,<<=\n",
    "\n",
    "#Comparison operators\n",
    "==,!=,>,<,>=,<=\n",
    "\n",
    "#Logical operators\n",
    "and,or,not\n",
    "\n",
    "#Identity operators\n",
    "is, is not\n",
    "\n",
    "#Membership operators\n",
    "in, not in\n",
    "\n",
    "#Bitwise operators\n",
    "&,|,^,~,<<,>>"
   ]
  },
  {
   "cell_type": "markdown",
   "metadata": {},
   "source": [
    "# PYTHON COLLECTION\n",
    "* List is a collection which is ordered and changeable. Allows duplicate members.\n",
    "* Tuple is a collection which is ordered and unchangeable. Allows duplicate members.\n",
    "* Set is a collection which is unordered and unindexed. No duplicate members.\n",
    "* Dictionary is a collection which is ordered* and changeable. No duplicate members."
   ]
  },
  {
   "cell_type": "markdown",
   "metadata": {},
   "source": [
    "## LISTS\n",
    "* Multiple items in single variable\n",
    "* created using []\n",
    "* ordered, changeable and allow duplicate values"
   ]
  },
  {
   "cell_type": "code",
   "execution_count": 46,
   "metadata": {},
   "outputs": [
    {
     "name": "stdout",
     "output_type": "stream",
     "text": [
      "3\n",
      "<class 'list'>\n"
     ]
    }
   ],
   "source": [
    "thislist = [\"apple\", \"banana\", \"cherry\"]\n",
    "print(len(thislist))\n",
    "print(type(thislist))"
   ]
  },
  {
   "cell_type": "code",
   "execution_count": 47,
   "metadata": {},
   "outputs": [
    {
     "name": "stdout",
     "output_type": "stream",
     "text": [
      "banana\n",
      "cherry\n"
     ]
    }
   ],
   "source": [
    "print(thislist[1])\n",
    "print(thislist[-1])"
   ]
  },
  {
   "cell_type": "code",
   "execution_count": 48,
   "metadata": {},
   "outputs": [
    {
     "name": "stdout",
     "output_type": "stream",
     "text": [
      "['apple', 'banana']\n"
     ]
    }
   ],
   "source": [
    "print(thislist[0:2])"
   ]
  },
  {
   "cell_type": "code",
   "execution_count": 49,
   "metadata": {},
   "outputs": [
    {
     "name": "stdout",
     "output_type": "stream",
     "text": [
      "['apple', 'banana']\n"
     ]
    }
   ],
   "source": [
    "print(thislist[:2])"
   ]
  },
  {
   "cell_type": "code",
   "execution_count": 50,
   "metadata": {},
   "outputs": [
    {
     "name": "stdout",
     "output_type": "stream",
     "text": [
      "['banana', 'cherry']\n"
     ]
    }
   ],
   "source": [
    "print(thislist[1:])"
   ]
  },
  {
   "cell_type": "code",
   "execution_count": 51,
   "metadata": {},
   "outputs": [
    {
     "name": "stdout",
     "output_type": "stream",
     "text": [
      "['apple', 'blackcurrant', 'cherry']\n"
     ]
    }
   ],
   "source": [
    "thislist = [\"apple\", \"banana\", \"cherry\"]\n",
    "thislist[1] = \"blackcurrant\"\n",
    "print(thislist)"
   ]
  },
  {
   "cell_type": "code",
   "execution_count": 52,
   "metadata": {},
   "outputs": [
    {
     "name": "stdout",
     "output_type": "stream",
     "text": [
      "['apple', 'blackcurrant', 'watermelon', 'orange', 'kiwi', 'mango']\n"
     ]
    }
   ],
   "source": [
    "thislist = [\"apple\", \"banana\", \"cherry\", \"orange\", \"kiwi\", \"mango\"]\n",
    "thislist[1:3] = [\"blackcurrant\", \"watermelon\"]\n",
    "print(thislist)"
   ]
  },
  {
   "cell_type": "code",
   "execution_count": 53,
   "metadata": {},
   "outputs": [
    {
     "name": "stdout",
     "output_type": "stream",
     "text": [
      "['apple', 'blackcurrant', 'watermelon', 'cherry']\n"
     ]
    }
   ],
   "source": [
    "thislist = [\"apple\", \"banana\", \"cherry\"]\n",
    "thislist[1:2] = [\"blackcurrant\", \"watermelon\"]\n",
    "print(thislist)"
   ]
  },
  {
   "cell_type": "code",
   "execution_count": 54,
   "metadata": {},
   "outputs": [
    {
     "name": "stdout",
     "output_type": "stream",
     "text": [
      "['apple', 'watermelon']\n"
     ]
    }
   ],
   "source": [
    "thislist = [\"apple\", \"banana\", \"cherry\"]\n",
    "thislist[1:3] = [\"watermelon\"]\n",
    "print(thislist)"
   ]
  },
  {
   "cell_type": "code",
   "execution_count": 55,
   "metadata": {},
   "outputs": [
    {
     "name": "stdout",
     "output_type": "stream",
     "text": [
      "['apple', 'banana', 'watermelon', 'cherry']\n"
     ]
    }
   ],
   "source": [
    "thislist = [\"apple\", \"banana\", \"cherry\"]\n",
    "thislist.insert(2, \"watermelon\")\n",
    "print(thislist)"
   ]
  },
  {
   "cell_type": "code",
   "execution_count": 56,
   "metadata": {},
   "outputs": [
    {
     "name": "stdout",
     "output_type": "stream",
     "text": [
      "['apple', 'banana', 'cherry', 'orange']\n"
     ]
    }
   ],
   "source": [
    "thislist = [\"apple\", \"banana\", \"cherry\"]\n",
    "thislist.append(\"orange\")\n",
    "print(thislist)"
   ]
  },
  {
   "cell_type": "code",
   "execution_count": 58,
   "metadata": {},
   "outputs": [
    {
     "name": "stdout",
     "output_type": "stream",
     "text": [
      "['apple', 'banana', 'cherry', 'mango', 'pineapple', 'papaya']\n"
     ]
    }
   ],
   "source": [
    "#merge two lists\n",
    "thislist = [\"apple\", \"banana\", \"cherry\"]\n",
    "tropical = [\"mango\", \"pineapple\", \"papaya\"]\n",
    "thislist.extend(tropical)\n",
    "print(thislist)"
   ]
  },
  {
   "cell_type": "code",
   "execution_count": 59,
   "metadata": {},
   "outputs": [
    {
     "name": "stdout",
     "output_type": "stream",
     "text": [
      "['apple', 'cherry']\n"
     ]
    }
   ],
   "source": [
    "thislist = [\"apple\", \"banana\", \"cherry\"]\n",
    "thislist.remove(\"banana\")\n",
    "print(thislist)"
   ]
  },
  {
   "cell_type": "code",
   "execution_count": 60,
   "metadata": {},
   "outputs": [
    {
     "name": "stdout",
     "output_type": "stream",
     "text": [
      "['apple', 'cherry']\n"
     ]
    }
   ],
   "source": [
    "#remove specified index\n",
    "thislist = [\"apple\", \"banana\", \"cherry\"]\n",
    "thislist.pop(1)\n",
    "print(thislist)"
   ]
  },
  {
   "cell_type": "code",
   "execution_count": 61,
   "metadata": {},
   "outputs": [
    {
     "name": "stdout",
     "output_type": "stream",
     "text": [
      "['apple', 'banana']\n"
     ]
    }
   ],
   "source": [
    "thislist = [\"apple\", \"banana\", \"cherry\"]\n",
    "thislist.pop() #pops the last element\n",
    "print(thislist)"
   ]
  },
  {
   "cell_type": "code",
   "execution_count": 62,
   "metadata": {},
   "outputs": [
    {
     "name": "stdout",
     "output_type": "stream",
     "text": [
      "['banana', 'cherry']\n"
     ]
    }
   ],
   "source": [
    "#delete element\n",
    "thislist = [\"apple\", \"banana\", \"cherry\"]\n",
    "del thislist[0]\n",
    "print(thislist)"
   ]
  },
  {
   "cell_type": "code",
   "execution_count": 63,
   "metadata": {},
   "outputs": [],
   "source": [
    "#delete list\n",
    "thislist = [\"apple\", \"banana\", \"cherry\"]\n",
    "del thislist"
   ]
  },
  {
   "cell_type": "code",
   "execution_count": 64,
   "metadata": {},
   "outputs": [
    {
     "name": "stdout",
     "output_type": "stream",
     "text": [
      "[]\n"
     ]
    }
   ],
   "source": [
    "#empty the list\n",
    "thislist = [\"apple\", \"banana\", \"cherry\"]\n",
    "thislist.clear()\n",
    "print(thislist)"
   ]
  },
  {
   "cell_type": "code",
   "execution_count": 66,
   "metadata": {},
   "outputs": [
    {
     "name": "stdout",
     "output_type": "stream",
     "text": [
      "apple\n",
      "banana\n",
      "cherry\n",
      "apple\n",
      "banana\n",
      "cherry\n",
      "apple\n",
      "banana\n",
      "cherry\n",
      "apple\n",
      "banana\n",
      "cherry\n"
     ]
    },
    {
     "data": {
      "text/plain": [
       "[None, None, None]"
      ]
     },
     "execution_count": 66,
     "metadata": {},
     "output_type": "execute_result"
    }
   ],
   "source": [
    "#loop through a list\n",
    "thislist = [\"apple\", \"banana\", \"cherry\"]\n",
    "for x in thislist:\n",
    "  print(x)\n",
    "\n",
    "#loop throughh the index number\n",
    "thislist = [\"apple\", \"banana\", \"cherry\"]\n",
    "for i in range(len(thislist)):\n",
    "  print(thislist[i])\n",
    "\n",
    "#looping list using while loop\n",
    "thislist = [\"apple\", \"banana\", \"cherry\"]\n",
    "i = 0\n",
    "while i < len(thislist):\n",
    "  print(thislist[i])\n",
    "  i = i + 1\n",
    "    \n",
    "#looping using list comprehension\n",
    "thislist = [\"apple\", \"banana\", \"cherry\"]\n",
    "[print(x) for x in thislist]"
   ]
  },
  {
   "cell_type": "code",
   "execution_count": 69,
   "metadata": {},
   "outputs": [
    {
     "name": "stdout",
     "output_type": "stream",
     "text": [
      "['banana', 'kiwi', 'mango', 'orange', 'pineapple']\n",
      "['pineapple', 'orange', 'mango', 'kiwi', 'banana']\n"
     ]
    }
   ],
   "source": [
    "#sorting\n",
    "thislist = [\"orange\", \"mango\", \"kiwi\", \"pineapple\", \"banana\"]\n",
    "thislist.sort()\n",
    "print(thislist)\n",
    "thislist.sort(reverse= True)\n",
    "print(thislist)"
   ]
  },
  {
   "cell_type": "code",
   "execution_count": 71,
   "metadata": {},
   "outputs": [
    {
     "name": "stdout",
     "output_type": "stream",
     "text": [
      "['apple', 'banana', 'cherry']\n"
     ]
    }
   ],
   "source": [
    "#copy list\n",
    "#if you use thislist=mylist, thislist will be a reference to mylist and all the changes in one list will be applied for both the lists\n",
    "thislist = [\"apple\", \"banana\", \"cherry\"]\n",
    "mylist = thislist.copy()\n",
    "print(mylist)"
   ]
  },
  {
   "cell_type": "code",
   "execution_count": 72,
   "metadata": {},
   "outputs": [
    {
     "name": "stdout",
     "output_type": "stream",
     "text": [
      "['a', 'b', 'c', 1, 2, 3]\n",
      "['a', 'b', 'c', 1, 2, 3]\n",
      "['a', 'b', 'c', 1, 2, 3]\n"
     ]
    }
   ],
   "source": [
    "#join two lists\n",
    "#using operator\n",
    "list1 = [\"a\", \"b\", \"c\"]\n",
    "list2 = [1, 2, 3]\n",
    "\n",
    "list3 = list1 + list2\n",
    "print(list3)\n",
    "\n",
    "#using append\n",
    "list1 = [\"a\", \"b\", \"c\"]\n",
    "list2 = [1, 2, 3]\n",
    "\n",
    "list3 = list1 + list2\n",
    "print(list3)\n",
    "\n",
    "#using extend\n",
    "list1 = [\"a\", \"b\" , \"c\"]\n",
    "list2 = [1, 2, 3]\n",
    "\n",
    "list1.extend(list2)\n",
    "print(list1)"
   ]
  },
  {
   "cell_type": "code",
   "execution_count": 73,
   "metadata": {},
   "outputs": [
    {
     "ename": "SyntaxError",
     "evalue": "invalid syntax (<ipython-input-73-98369086c15b>, line 2)",
     "output_type": "error",
     "traceback": [
      "\u001b[1;36m  File \u001b[1;32m\"<ipython-input-73-98369086c15b>\"\u001b[1;36m, line \u001b[1;32m2\u001b[0m\n\u001b[1;33m    https://www.w3schools.com/python/python_lists_methods.asp\u001b[0m\n\u001b[1;37m          ^\u001b[0m\n\u001b[1;31mSyntaxError\u001b[0m\u001b[1;31m:\u001b[0m invalid syntax\n"
     ]
    }
   ],
   "source": [
    "#list methods\n",
    "https://www.w3schools.com/python/python_lists_methods.asp\n"
   ]
  },
  {
   "cell_type": "markdown",
   "metadata": {},
   "source": [
    "## TUPLES\n",
    "* store multiple items in a single variable\n",
    "* stored in ()\n",
    "* ordered and unchangeable collection; allows duplicate values"
   ]
  },
  {
   "cell_type": "markdown",
   "metadata": {},
   "source": [
    "###### FUNCTIONALITIES SAME AS LIST"
   ]
  },
  {
   "cell_type": "code",
   "execution_count": 75,
   "metadata": {},
   "outputs": [
    {
     "ename": "SyntaxError",
     "evalue": "invalid syntax (<ipython-input-75-7e260d67cee3>, line 2)",
     "output_type": "error",
     "traceback": [
      "\u001b[1;36m  File \u001b[1;32m\"<ipython-input-75-7e260d67cee3>\"\u001b[1;36m, line \u001b[1;32m2\u001b[0m\n\u001b[1;33m    no adding, removing or replacing tuple\u001b[0m\n\u001b[1;37m       ^\u001b[0m\n\u001b[1;31mSyntaxError\u001b[0m\u001b[1;31m:\u001b[0m invalid syntax\n"
     ]
    }
   ],
   "source": [
    "#modifying the tuple\n",
    "no adding, removing or replacing tuple\n",
    "#change tuple values\n",
    "convert to list, change the value, convert back to tuple"
   ]
  },
  {
   "cell_type": "markdown",
   "metadata": {},
   "source": [
    "## SETS\n",
    "* store multiple items in a single variable\n",
    "* stored in {}\n",
    "* unordered and unchangeable collection; no duplicate values"
   ]
  },
  {
   "cell_type": "code",
   "execution_count": 76,
   "metadata": {},
   "outputs": [
    {
     "name": "stdout",
     "output_type": "stream",
     "text": [
      "{'cherry', 'banana', 'apple', 'orange'}\n"
     ]
    }
   ],
   "source": [
    "# in set you cannot modify existing elements but add new elements\n",
    "thisset = {\"apple\", \"banana\", \"cherry\"}\n",
    "\n",
    "thisset.add(\"orange\")\n",
    "\n",
    "print(thisset)"
   ]
  },
  {
   "cell_type": "code",
   "execution_count": 79,
   "metadata": {},
   "outputs": [
    {
     "name": "stdout",
     "output_type": "stream",
     "text": [
      "{'cherry', 'banana', 'mango', 'papaya', 'apple', 'pineapple'}\n"
     ]
    }
   ],
   "source": [
    "#add two sets using update\n",
    "thisset = {\"apple\", \"banana\", \"cherry\"}\n",
    "tropical = {\"pineapple\", \"mango\", \"papaya\"}\n",
    "\n",
    "thisset.update(tropical)\n",
    "\n",
    "print(thisset)"
   ]
  },
  {
   "cell_type": "code",
   "execution_count": 82,
   "metadata": {},
   "outputs": [
    {
     "name": "stdout",
     "output_type": "stream",
     "text": [
      "{'cherry', 'apple'}\n",
      "{'cherry', 'apple'}\n",
      "cherry\n",
      "{'banana', 'apple'}\n",
      "set()\n"
     ]
    },
    {
     "ename": "NameError",
     "evalue": "name 'thisset' is not defined",
     "output_type": "error",
     "traceback": [
      "\u001b[1;31m---------------------------------------------------------------------------\u001b[0m",
      "\u001b[1;31mNameError\u001b[0m                                 Traceback (most recent call last)",
      "\u001b[1;32m<ipython-input-82-4adfedd34120>\u001b[0m in \u001b[0;36m<module>\u001b[1;34m\u001b[0m\n\u001b[0;32m     35\u001b[0m \u001b[1;32mdel\u001b[0m \u001b[0mthisset\u001b[0m\u001b[1;33m\u001b[0m\u001b[1;33m\u001b[0m\u001b[0m\n\u001b[0;32m     36\u001b[0m \u001b[1;33m\u001b[0m\u001b[0m\n\u001b[1;32m---> 37\u001b[1;33m \u001b[0mprint\u001b[0m\u001b[1;33m(\u001b[0m\u001b[0mthisset\u001b[0m\u001b[1;33m)\u001b[0m\u001b[1;33m\u001b[0m\u001b[1;33m\u001b[0m\u001b[0m\n\u001b[0m",
      "\u001b[1;31mNameError\u001b[0m: name 'thisset' is not defined"
     ]
    }
   ],
   "source": [
    "#remove item using remove(), discard(),pop()\n",
    "#remove()\n",
    "thisset = {\"apple\", \"banana\", \"cherry\"}\n",
    "\n",
    "thisset.remove(\"banana\")\n",
    "\n",
    "print(thisset)\n",
    "\n",
    "#discard()\n",
    "thisset = {\"apple\", \"banana\", \"cherry\"}\n",
    "\n",
    "thisset.discard(\"banana\")\n",
    "\n",
    "print(thisset)\n",
    "\n",
    "#pop()\n",
    "thisset = {\"apple\", \"banana\", \"cherry\"}\n",
    "\n",
    "x = thisset.pop()\n",
    "\n",
    "print(x)\n",
    "\n",
    "print(thisset)\n",
    "\n",
    "#clear()\n",
    "thisset = {\"apple\", \"banana\", \"cherry\"}\n",
    "\n",
    "thisset.clear()\n",
    "\n",
    "print(thisset)\n",
    "\n",
    "#del\n",
    "thisset = {\"apple\", \"banana\", \"cherry\"}\n",
    "\n",
    "del thisset\n",
    "\n",
    "print(thisset)"
   ]
  },
  {
   "cell_type": "code",
   "execution_count": 1,
   "metadata": {},
   "outputs": [
    {
     "ename": "SyntaxError",
     "evalue": "invalid syntax (<ipython-input-1-294e40882fa1>, line 2)",
     "output_type": "error",
     "traceback": [
      "\u001b[1;36m  File \u001b[1;32m\"<ipython-input-1-294e40882fa1>\"\u001b[1;36m, line \u001b[1;32m2\u001b[0m\n\u001b[1;33m    https://www.w3schools.com/python/python_sets_methods.asp\u001b[0m\n\u001b[1;37m          ^\u001b[0m\n\u001b[1;31mSyntaxError\u001b[0m\u001b[1;31m:\u001b[0m invalid syntax\n"
     ]
    }
   ],
   "source": [
    "#set functions\n",
    "https://www.w3schools.com/python/python_sets_methods.asp"
   ]
  },
  {
   "cell_type": "markdown",
   "metadata": {},
   "source": [
    "### DICTIONARY\n",
    "* Dictionary items are ordered, changeable, and does not allow duplicates.\n",
    "* Dictionary items are presented in key:value pairs, and can be referred to by using the key name."
   ]
  },
  {
   "cell_type": "code",
   "execution_count": 2,
   "metadata": {},
   "outputs": [
    {
     "name": "stdout",
     "output_type": "stream",
     "text": [
      "{'brand': 'Ford', 'model': 'Mustang', 'year': 1964}\n",
      "3\n"
     ]
    }
   ],
   "source": [
    "thisdict = {\n",
    "  \"brand\": \"Ford\",\n",
    "  \"model\": \"Mustang\",\n",
    "  \"year\": 1964\n",
    "}\n",
    "print(thisdict)\n",
    "\n",
    "print(len(thisdict))"
   ]
  },
  {
   "cell_type": "code",
   "execution_count": 3,
   "metadata": {},
   "outputs": [
    {
     "name": "stdout",
     "output_type": "stream",
     "text": [
      "<class 'dict'>\n"
     ]
    }
   ],
   "source": [
    "print(type(thisdict))"
   ]
  },
  {
   "cell_type": "code",
   "execution_count": 8,
   "metadata": {},
   "outputs": [
    {
     "name": "stdout",
     "output_type": "stream",
     "text": [
      "Mustang\n",
      "Mustang\n",
      "dict_keys(['brand', 'model', 'year'])\n",
      "dict_values(['Ford', 'Mustang', 1964])\n"
     ]
    }
   ],
   "source": [
    "x = thisdict[\"model\"]\n",
    "print(x)\n",
    "y=thisdict.get(\"model\")\n",
    "print(y)\n",
    "\n",
    "#print  keys\n",
    "print(thisdict.keys())\n",
    "\n",
    "#print values\n",
    "print(thisdict.values())"
   ]
  },
  {
   "cell_type": "code",
   "execution_count": 7,
   "metadata": {},
   "outputs": [
    {
     "name": "stdout",
     "output_type": "stream",
     "text": [
      "dict_keys(['brand', 'model', 'year'])\n",
      "dict_keys(['brand', 'model', 'year', 'color'])\n"
     ]
    }
   ],
   "source": [
    "#add new element\n",
    "car = {\n",
    "\"brand\": \"Ford\",\n",
    "\"model\": \"Mustang\",\n",
    "\"year\": 1964\n",
    "}\n",
    "\n",
    "x = car.keys()\n",
    "\n",
    "print(x) #before the change\n",
    "\n",
    "car[\"color\"] = \"white\"\n",
    "\n",
    "print(x) #after the change"
   ]
  },
  {
   "cell_type": "code",
   "execution_count": 9,
   "metadata": {},
   "outputs": [
    {
     "ename": "SyntaxError",
     "evalue": "invalid syntax (<ipython-input-9-1369b201a4c3>, line 2)",
     "output_type": "error",
     "traceback": [
      "\u001b[1;36m  File \u001b[1;32m\"<ipython-input-9-1369b201a4c3>\"\u001b[1;36m, line \u001b[1;32m2\u001b[0m\n\u001b[1;33m    https://www.w3schools.com/python/python_dictionaries_methods.asp\u001b[0m\n\u001b[1;37m          ^\u001b[0m\n\u001b[1;31mSyntaxError\u001b[0m\u001b[1;31m:\u001b[0m invalid syntax\n"
     ]
    }
   ],
   "source": [
    "#dict methods\n",
    "https://www.w3schools.com/python/python_dictionaries_methods.asp"
   ]
  },
  {
   "cell_type": "markdown",
   "metadata": {},
   "source": [
    "### CONDITIONAL STATEMENTS"
   ]
  },
  {
   "cell_type": "code",
   "execution_count": 10,
   "metadata": {},
   "outputs": [
    {
     "name": "stdout",
     "output_type": "stream",
     "text": [
      "a is greater than b\n"
     ]
    }
   ],
   "source": [
    "#if statement\n",
    "a = 200\n",
    "b = 33\n",
    "if b > a:\n",
    "  print(\"b is greater than a\")\n",
    "elif a == b:\n",
    "  print(\"a and b are equal\")\n",
    "else:\n",
    "  print(\"a is greater than b\")"
   ]
  },
  {
   "cell_type": "code",
   "execution_count": 11,
   "metadata": {},
   "outputs": [
    {
     "name": "stdout",
     "output_type": "stream",
     "text": [
      "a is greater than b\n"
     ]
    }
   ],
   "source": [
    "#short hand if\n",
    "if a > b: print(\"a is greater than b\")"
   ]
  },
  {
   "cell_type": "code",
   "execution_count": 13,
   "metadata": {},
   "outputs": [
    {
     "name": "stdout",
     "output_type": "stream",
     "text": [
      "B\n"
     ]
    }
   ],
   "source": [
    "# short hand if else\n",
    "a = 2\n",
    "b = 330\n",
    "print(\"A\") if a > b else print(\"B\")"
   ]
  },
  {
   "cell_type": "code",
   "execution_count": 14,
   "metadata": {},
   "outputs": [],
   "source": [
    "#while statement\n",
    "#for\n",
    "#pass\n",
    "#continue\n",
    "#break"
   ]
  },
  {
   "cell_type": "code",
   "execution_count": 15,
   "metadata": {},
   "outputs": [],
   "source": [
    "#LAMBDA : Small anonymous function\n",
    "# lambda function can take any number of arguments, but can only have one expression."
   ]
  },
  {
   "cell_type": "code",
   "execution_count": 17,
   "metadata": {},
   "outputs": [
    {
     "name": "stdout",
     "output_type": "stream",
     "text": [
      "15\n"
     ]
    }
   ],
   "source": [
    "x = lambda a : a + 10\n",
    "print(x(5))"
   ]
  },
  {
   "cell_type": "code",
   "execution_count": 19,
   "metadata": {},
   "outputs": [
    {
     "name": "stdout",
     "output_type": "stream",
     "text": [
      "30\n"
     ]
    }
   ],
   "source": [
    "x = lambda a, b : a * b\n",
    "print(x(5, 6))"
   ]
  },
  {
   "cell_type": "code",
   "execution_count": 20,
   "metadata": {},
   "outputs": [
    {
     "name": "stdout",
     "output_type": "stream",
     "text": [
      "2021-05-07 19:33:26.797978\n"
     ]
    }
   ],
   "source": [
    "#Python Datetime\n",
    "import datetime\n",
    "\n",
    "x = datetime.datetime.now()\n",
    "print(x)   "
   ]
  },
  {
   "cell_type": "code",
   "execution_count": 22,
   "metadata": {},
   "outputs": [
    {
     "name": "stdout",
     "output_type": "stream",
     "text": [
      "8.0\n"
     ]
    }
   ],
   "source": [
    "#Math module\n",
    "import math\n",
    "x = math.sqrt(64)\n",
    "\n",
    "print(x)"
   ]
  },
  {
   "cell_type": "code",
   "execution_count": 24,
   "metadata": {},
   "outputs": [
    {
     "name": "stdout",
     "output_type": "stream",
     "text": [
      "2\n",
      "1\n"
     ]
    }
   ],
   "source": [
    "x = math.ceil(1.4)\n",
    "print(x)\n",
    "y = math.floor(1.4)\n",
    "print(y)"
   ]
  },
  {
   "cell_type": "code",
   "execution_count": 25,
   "metadata": {},
   "outputs": [
    {
     "name": "stdout",
     "output_type": "stream",
     "text": [
      "3.141592653589793\n"
     ]
    }
   ],
   "source": [
    "x = math.pi\n",
    "\n",
    "print(x)"
   ]
  },
  {
   "cell_type": "markdown",
   "metadata": {},
   "source": [
    "### PYTHON JSON\n",
    "* JSON is a syntax for storing and exchanging data.\n",
    "\n",
    "* JSON is text, written with JavaScript object notation."
   ]
  },
  {
   "cell_type": "code",
   "execution_count": 26,
   "metadata": {},
   "outputs": [
    {
     "name": "stdout",
     "output_type": "stream",
     "text": [
      "30\n"
     ]
    }
   ],
   "source": [
    "import json\n",
    "\n",
    "# some JSON:\n",
    "x =  '{ \"name\":\"John\", \"age\":30, \"city\":\"New York\"}'\n",
    "\n",
    "# parse x:\n",
    "y = json.loads(x)\n",
    "\n",
    "# the result is a Python dictionary:\n",
    "print(y[\"age\"])"
   ]
  },
  {
   "cell_type": "code",
   "execution_count": 27,
   "metadata": {},
   "outputs": [
    {
     "name": "stdout",
     "output_type": "stream",
     "text": [
      "{\"name\": \"John\", \"age\": 30, \"city\": \"New York\"}\n"
     ]
    }
   ],
   "source": [
    "# python object to json object using dumps\n",
    "import json\n",
    "\n",
    "# a Python object (dict):\n",
    "x = {\n",
    "  \"name\": \"John\",\n",
    "  \"age\": 30,\n",
    "  \"city\": \"New York\"\n",
    "}\n",
    "\n",
    "# convert into JSON:\n",
    "y = json.dumps(x)\n",
    "\n",
    "# the result is a JSON string:\n",
    "print(y)"
   ]
  },
  {
   "cell_type": "markdown",
   "metadata": {},
   "source": [
    "### REGULAR EXPRESSIONS\n",
    "* Regular Expression is a sequence of characters that forms a search pattern.\n",
    "\n",
    "* RegEx can be used to check if a string contains the specified search pattern."
   ]
  },
  {
   "cell_type": "code",
   "execution_count": 29,
   "metadata": {},
   "outputs": [
    {
     "name": "stdout",
     "output_type": "stream",
     "text": [
      "<re.Match object; span=(0, 17), match='The rain in Spain'>\n",
      "['ai', 'ai']\n",
      "The first white-space character is located in position: 3\n",
      "['The', 'rain', 'in', 'Spain']\n",
      "The9rain9in9Spain\n"
     ]
    }
   ],
   "source": [
    "import re\n",
    "\n",
    "#Search the string to see if it starts with \"The\" and ends with \"Spain\":\n",
    "txt = \"The rain in Spain\"\n",
    "x = re.search(\"^The.*Spain$\", txt)\n",
    "print(x)\n",
    "\n",
    "#findall()- Returns a list containing all matches\n",
    "txt = \"The rain in Spain\"\n",
    "x = re.findall(\"ai\", txt)\n",
    "print(x)\n",
    "\n",
    "#search()- Returns a Match object if there is a match anywhere in the string\n",
    "import re\n",
    "\n",
    "txt = \"The rain in Spain\"\n",
    "x = re.search(\"\\s\", txt)\n",
    "\n",
    "print(\"The first white-space character is located in position:\", x.start())\n",
    "\n",
    "#split()-Returns a Match object if there is a match anywhere in the string\n",
    "import re\n",
    "\n",
    "txt = \"The rain in Spain\"\n",
    "x = re.split(\"\\s\", txt)\n",
    "print(x)\n",
    "\n",
    "#sub()-Replaces one or many matches with a string\n",
    "import re\n",
    "\n",
    "txt = \"The rain in Spain\"\n",
    "x = re.sub(\"\\s\", \"9\", txt)\n",
    "print(x)\n",
    "\n",
    "#replace the first two occurences:;\n",
    "txt = \"The rain in Spain\"\n",
    "x = re.sub(\"\\s\", \"9\", txt, 2)\n",
    "print(x)"
   ]
  },
  {
   "cell_type": "code",
   "execution_count": 30,
   "metadata": {},
   "outputs": [
    {
     "name": "stdout",
     "output_type": "stream",
     "text": [
      "Enter username:Shrini\n",
      "Username is: Shrini\n"
     ]
    }
   ],
   "source": [
    "#USER INPUT\n",
    "username = input(\"Enter username:\")\n",
    "print(\"Username is: \" + username)"
   ]
  },
  {
   "cell_type": "markdown",
   "metadata": {},
   "source": [
    "### MATPLOTLIB\n",
    "* Matplotlib is a low level graph plotting library in python that serves as a visualization utility."
   ]
  },
  {
   "cell_type": "code",
   "execution_count": 32,
   "metadata": {},
   "outputs": [
    {
     "name": "stdout",
     "output_type": "stream",
     "text": [
      "3.3.2\n"
     ]
    }
   ],
   "source": [
    "import matplotlib\n",
    "\n",
    "print(matplotlib.__version__)"
   ]
  },
  {
   "cell_type": "code",
   "execution_count": 42,
   "metadata": {},
   "outputs": [
    {
     "data": {
      "image/png": "[encoded data removed]",
      "text/plain": [
       "<Figure size 432x288 with 1 Axes>"
      ]
     },
     "metadata": {
      "needs_background": "light"
     },
     "output_type": "display_data"
    }
   ],
   "source": [
    "#Draw a line in a diagram from position (0,0) to position (6,250):\n",
    "import matplotlib.pyplot as plt\n",
    "import numpy as np\n",
    "\n",
    "xpoints = np.array([0, 6])\n",
    "ypoints = np.array([0, 250])\n",
    "\n",
    "plt.plot(xpoints, ypoints,color='yellow',linestyle='dotted',marker = '*',ms=20,mec='g',mfc='r',linewidth=2) \n",
    "#color- line color, linestyle- dotted, dashed or regular,ms-marker size, mec- marker edge color, mfc- marker fill color, lineiwdth- line thickness\n",
    "plt.show()"
   ]
  },
  {
   "cell_type": "code",
   "execution_count": 48,
   "metadata": {},
   "outputs": [
    {
     "data": {
      "image/png": "[encoded data removed]",
      "text/plain": [
       "<Figure size 432x288 with 1 Axes>"
      ]
     },
     "metadata": {
      "needs_background": "light"
     },
     "output_type": "display_data"
    }
   ],
   "source": [
    "#plotting many lines\n",
    "x1 = np.array([0, 1, 2, 3])\n",
    "y1 = np.array([3, 8, 1, 10])\n",
    "x2 = np.array([0, 1, 2, 3])\n",
    "y2 = np.array([6, 2, 7, 11])\n",
    "\n",
    "plt.plot(x1, y1, x2, y2)\n",
    "plt.title(\"Sports Watch Data\", loc='left')\n",
    "plt.xlabel(\"Average Pulse\")\n",
    "plt.ylabel(\"Calorie Burnage\")\n",
    "plt.grid(color = 'green', linestyle = '--', linewidth = 0.5)\n",
    "#plt.grid(axis = 'x') - to display grid only for x axis\n",
    "\n",
    "plt.show()"
   ]
  },
  {
   "cell_type": "code",
   "execution_count": 52,
   "metadata": {},
   "outputs": [
    {
     "data": {
      "image/png": "[encoded data removed]",
      "text/plain": [
       "<Figure size 432x288 with 2 Axes>"
      ]
     },
     "metadata": {
      "needs_background": "light"
     },
     "output_type": "display_data"
    }
   ],
   "source": [
    "#subplot\n",
    "import matplotlib.pyplot as plt\n",
    "import numpy as np\n",
    "\n",
    "#plot 1:\n",
    "x = np.array([0, 1, 2, 3])\n",
    "y = np.array([3, 8, 1, 10])\n",
    "\n",
    "plt.subplot(1, 2, 1) #row-1, col-2,plot-1\n",
    "plt.plot(x,y)\n",
    "plt.title(\"Graph 1\")\n",
    "\n",
    "#plot 2:\n",
    "x = np.array([0, 1, 2, 3])\n",
    "y = np.array([10, 20, 30, 40])\n",
    "\n",
    "plt.subplot(1, 2, 2) #row-1, col-2,plot-2\n",
    "plt.plot(x,y)\n",
    "plt.title(\"Graph 2\")\n",
    "\n",
    "plt.suptitle(\"Sub Plot\") #plot title \n",
    "\n",
    "plt.show()"
   ]
  },
  {
   "cell_type": "code",
   "execution_count": 54,
   "metadata": {},
   "outputs": [
    {
     "data": {
      "image/png": "[encoded data removed]",
      "text/plain": [
       "<Figure size 432x288 with 1 Axes>"
      ]
     },
     "metadata": {
      "needs_background": "light"
     },
     "output_type": "display_data"
    }
   ],
   "source": [
    "# Scatter Plot\n",
    "import matplotlib.pyplot as plt\n",
    "import numpy as np\n",
    "\n",
    "x = np.array([5,7,8,7,2,17,2,9,4,11,12,9,6])\n",
    "y = np.array([99,86,87,88,111,86,103,87,94,78,77,85,86])\n",
    "sizes = np.array([20,50,100,200,500,1000,60,90,10,300,600,800,75])\n",
    "plt.scatter(x, y, color = 'hotpink', s=sizes, alpha=0.5) #size- size of the circle, alpha-transparency of the circle\n",
    "\n",
    "x = np.array([2,2,8,1,15,8,12,9,7,3,11,4,7,14,12])\n",
    "y = np.array([100,105,84,105,90,99,90,95,94,100,79,112,91,80,85])\n",
    "plt.scatter(x, y, color = '#88c999')\n",
    "\n",
    "plt.show()"
   ]
  },
  {
   "cell_type": "code",
   "execution_count": 58,
   "metadata": {},
   "outputs": [
    {
     "data": {
      "image/png": "[encoded data removed]",
      "text/plain": [
       "<Figure size 432x288 with 1 Axes>"
      ]
     },
     "metadata": {
      "needs_background": "light"
     },
     "output_type": "display_data"
    }
   ],
   "source": [
    "#BAR CHART\n",
    "import matplotlib.pyplot as plt\n",
    "import numpy as np\n",
    "\n",
    "x = np.array([\"A\", \"B\", \"C\", \"D\"])\n",
    "y = np.array([3, 8, 1, 10])\n",
    "\n",
    "plt.bar(x, y,color='red',width=0.5) #use barh for horizontal bars\n",
    "plt.show()"
   ]
  },
  {
   "cell_type": "code",
   "execution_count": 60,
   "metadata": {},
   "outputs": [
    {
     "data": {
      "image/png": "[encoded data removed]",
      "text/plain": [
       "<Figure size 432x288 with 1 Axes>"
      ]
     },
     "metadata": {
      "needs_background": "light"
     },
     "output_type": "display_data"
    }
   ],
   "source": [
    "#HISTOGRAM\n",
    "# A histogram is a graph showing frequency distributions.\n",
    "\n",
    "# It is a graph showing the number of observations within each given interval.\n",
    "\n",
    "import matplotlib.pyplot as plt\n",
    "import numpy as np\n",
    "\n",
    "x = np.random.normal(170, 10, 250) #250 values around 170 with SD 10\n",
    "\n",
    "plt.hist(x)\n",
    "plt.show()"
   ]
  },
  {
   "cell_type": "code",
   "execution_count": 61,
   "metadata": {},
   "outputs": [
    {
     "data": {
      "image/png": "[encoded data removed]",
      "text/plain": [
       "<Figure size 432x288 with 1 Axes>"
      ]
     },
     "metadata": {},
     "output_type": "display_data"
    }
   ],
   "source": [
    "# PIE CHART\n",
    "import matplotlib.pyplot as plt\n",
    "import numpy as np\n",
    "\n",
    "y = np.array([35, 25, 25, 15])\n",
    "mylabels = [\"Apples\", \"Bananas\", \"Cherries\", \"Dates\"]\n",
    "\n",
    "plt.pie(y, labels = mylabels)\n",
    "plt.show() "
   ]
  },
  {
   "cell_type": "code",
   "execution_count": 63,
   "metadata": {},
   "outputs": [
    {
     "data": {
      "image/png": "[encoded data removed]",
      "text/plain": [
       "<Figure size 432x288 with 1 Axes>"
      ]
     },
     "metadata": {},
     "output_type": "display_data"
    }
   ],
   "source": [
    "#explode one chunk of pie chart\n",
    "import matplotlib.pyplot as plt\n",
    "import numpy as np\n",
    "\n",
    "y = np.array([35, 25, 25, 15])\n",
    "mylabels = [\"Apples\", \"Bananas\", \"Cherries\", \"Dates\"]\n",
    "myexplode = [0.2, 0, 0, 0]\n",
    "\n",
    "plt.pie(y, labels = mylabels, explode = myexplode)\n",
    "plt.legend()\n",
    "plt.show() "
   ]
  },
  {
   "cell_type": "markdown",
   "metadata": {},
   "source": [
    "### MACHINE LEARNING\n",
    "* Machine Learning is making the computer learn from studying data and statistics.\n",
    "\n",
    "* Machine Learning is a step into the direction of artificial intelligence (AI).\n",
    "\n",
    "* Machine Learning is a program that analyses data and learns to predict the outcome."
   ]
  },
  {
   "cell_type": "markdown",
   "metadata": {},
   "source": [
    "#### Data Types\n",
    "* Numerical\n",
    "* Categorical\n",
    "*  Ordinal"
   ]
  },
  {
   "cell_type": "code",
   "execution_count": 69,
   "metadata": {},
   "outputs": [
    {
     "name": "stdout",
     "output_type": "stream",
     "text": [
      "89.76923076923077\n",
      "87.0\n",
      "ModeResult(mode=array([86]), count=array([3]))\n"
     ]
    }
   ],
   "source": [
    "#Mean - The average value\n",
    "#Median - The mid point value\n",
    "#Mode - The most common value\n",
    "\n",
    "import numpy\n",
    "from scipy import stats #for computing mode\n",
    "\n",
    "speed = [99,86,87,88,111,86,103,87,94,78,77,85,86]\n",
    "\n",
    "x = numpy.mean(speed)\n",
    "print(x)\n",
    "\n",
    "x = numpy.median(speed)\n",
    "print(x)\n",
    "\n",
    "x = stats.mode(speed) #returns number and count\n",
    "print(x)"
   ]
  },
  {
   "cell_type": "code",
   "execution_count": 71,
   "metadata": {},
   "outputs": [
    {
     "name": "stdout",
     "output_type": "stream",
     "text": [
      "37.84501153334721\n",
      "1432.2448979591834\n"
     ]
    }
   ],
   "source": [
    "#Standard deviation-a number that describes how spread out the values are\n",
    "#Variance- square of SD. number that indicates how spread out the values are.\n",
    "import numpy\n",
    "\n",
    "speed = [32,111,138,28,59,77,97]\n",
    "\n",
    "x = numpy.std(speed)\n",
    "y = numpy.var(speed)\n",
    "\n",
    "print(x)\n",
    "print(y)"
   ]
  },
  {
   "cell_type": "code",
   "execution_count": 72,
   "metadata": {},
   "outputs": [
    {
     "name": "stdout",
     "output_type": "stream",
     "text": [
      "43.0\n"
     ]
    }
   ],
   "source": [
    "#Precentile: Used in statistics to give you a number that describes the value that a given percent of the values are lower than.\n",
    "\n",
    "import numpy\n",
    "ages = [5,31,43,48,50,41,7,11,15,39,80,82,32,2,8,6,25,36,27,61,31]\n",
    "x = numpy.percentile(ages, 75)\n",
    "print(x)"
   ]
  },
  {
   "cell_type": "code",
   "execution_count": 73,
   "metadata": {},
   "outputs": [
    {
     "data": {
      "image/png": "[encoded data removed]",
      "text/plain": [
       "<Figure size 432x288 with 1 Axes>"
      ]
     },
     "metadata": {
      "needs_background": "light"
     },
     "output_type": "display_data"
    }
   ],
   "source": [
    "#Linear regression\n",
    "import matplotlib.pyplot as plt\n",
    "from scipy import stats\n",
    "\n",
    "x = [5,7,8,7,2,17,2,9,4,11,12,9,6]\n",
    "y = [99,86,87,88,111,86,103,87,94,78,77,85,86]\n",
    "\n",
    "slope, intercept, r, p, std_err = stats.linregress(x, y)\n",
    "\n",
    "def myfunc(x):\n",
    "  return slope * x + intercept #y=mx+c\n",
    "\n",
    "mymodel = list(map(myfunc, x))\n",
    "\n",
    "plt.scatter(x, y)\n",
    "plt.plot(x, mymodel) #line of linear regression\n",
    "plt.show()"
   ]
  },
  {
   "cell_type": "code",
   "execution_count": 74,
   "metadata": {},
   "outputs": [
    {
     "name": "stdout",
     "output_type": "stream",
     "text": [
      "-0.758591524376155\n"
     ]
    }
   ],
   "source": [
    "# r (coefficient of correlation)\n",
    "# The r value ranges from -1 to 1, where 0 means no relationship, and 1 (and -1) means 100% related.\n",
    "from scipy import stats\n",
    "\n",
    "x = [5,7,8,7,2,17,2,9,4,11,12,9,6]\n",
    "y = [99,86,87,88,111,86,103,87,94,78,77,85,86]\n",
    "\n",
    "slope, intercept, r, p, std_err = stats.linregress(x, y)\n",
    "\n",
    "print(r)"
   ]
  },
  {
   "cell_type": "code",
   "execution_count": 75,
   "metadata": {},
   "outputs": [
    {
     "name": "stdout",
     "output_type": "stream",
     "text": [
      "85.59308314937454\n"
     ]
    }
   ],
   "source": [
    "# predicting future values\n",
    "from scipy import stats\n",
    "\n",
    "x = [5,7,8,7,2,17,2,9,4,11,12,9,6]\n",
    "y = [99,86,87,88,111,86,103,87,94,78,77,85,86]\n",
    "\n",
    "slope, intercept, r, p, std_err = stats.linregress(x, y)\n",
    "\n",
    "def myfunc(x):\n",
    "  return slope * x + intercept\n",
    "\n",
    "speed = myfunc(10)\n",
    "\n",
    "print(speed)"
   ]
  },
  {
   "cell_type": "code",
   "execution_count": 77,
   "metadata": {},
   "outputs": [
    {
     "data": {
      "image/png": "[encoded data removed]",
      "text/plain": [
       "<Figure size 432x288 with 1 Axes>"
      ]
     },
     "metadata": {
      "needs_background": "light"
     },
     "output_type": "display_data"
    },
    {
     "name": "stdout",
     "output_type": "stream",
     "text": [
      "0.9432150416451027\n",
      "88.87331269697987\n"
     ]
    }
   ],
   "source": [
    "# Polynomial regression\n",
    "#If your data points clearly will not fit a linear regression (a straight line through all data points), it might be ideal for polynomial regression.\n",
    "#Polynomial regression, like linear regression, uses the relationship between the variables x and y to find the best way to draw a line through the data points.\n",
    "\n",
    "import numpy\n",
    "import matplotlib.pyplot as plt\n",
    "from sklearn.metrics import r2_score\n",
    "\n",
    "x = [1,2,3,5,6,7,8,9,10,12,13,14,15,16,18,19,21,22]\n",
    "y = [100,90,80,60,60,55,60,65,70,70,75,76,78,79,90,99,99,100]\n",
    "\n",
    "mymodel = numpy.poly1d(numpy.polyfit(x, y, 3))\n",
    "\n",
    "myline = numpy.linspace(1, 22, 100)\n",
    "\n",
    "plt.scatter(x, y)\n",
    "plt.plot(myline, mymodel(myline))\n",
    "plt.show()\n",
    "\n",
    "#r value\n",
    "print(r2_score(y, mymodel(x)))\n",
    "\n",
    "#predict future values\n",
    "speed = mymodel(17)\n",
    "print(speed)"
   ]
  },
  {
   "cell_type": "code",
   "execution_count": 79,
   "metadata": {},
   "outputs": [
    {
     "name": "stdout",
     "output_type": "stream",
     "text": [
      "[0.00755095 0.00780526]\n",
      "[107.2087328]\n"
     ]
    }
   ],
   "source": [
    "# Multiple regression\n",
    "# Multiple regression is like linear regression, but with more than one independent value, meaning that we try to predict a value based on two or more variables.\n",
    "\n",
    "#We can predict the CO2 emission of a car based on the size of the engine, but with multiple regression we can throw in more variables, like the weight of the car, to make the prediction more accurate.\n",
    "\n",
    "import pandas\n",
    "from sklearn import linear_model\n",
    "\n",
    "df = pandas.read_csv(\"cars.csv\")\n",
    "\n",
    "X = df[['Weight', 'Volume']]\n",
    "y = df['CO2']\n",
    "\n",
    "regr = linear_model.LinearRegression()\n",
    "regr.fit(X, y)\n",
    "\n",
    "#coefficient- coefficient is a factor that describes the relationship with an unknown variable\n",
    "print(regr.coef_) #result is array of weight and volumes\n",
    "\n",
    "#predict the CO2 emission of a car where the weight is 2300kg, and the volume is 1300cm3:\n",
    "predictedCO2 = regr.predict([[2300, 1300]])\n",
    "\n",
    "print(predictedCO2)"
   ]
  },
  {
   "cell_type": "code",
   "execution_count": 81,
   "metadata": {},
   "outputs": [
    {
     "name": "stdout",
     "output_type": "stream",
     "text": [
      "[97.07204485]\n"
     ]
    }
   ],
   "source": [
    "# Machine learniing scaling:\n",
    "#When your data has different values, and even different measurement units, it can be difficult to compare them. What is kilograms compared to meters? Or altitude compared to time?\n",
    "\n",
    "#The answer to this problem is scaling. We can scale data into new values that are easier to compare.\n",
    "\n",
    "import pandas\n",
    "from sklearn import linear_model\n",
    "from sklearn.preprocessing import StandardScaler\n",
    "scale = StandardScaler()\n",
    "\n",
    "df = pandas.read_csv(\"cars.csv\")\n",
    "\n",
    "X = df[['Weight', 'Volume']]\n",
    "y = df['CO2']\n",
    "\n",
    "scaledX = scale.fit_transform(X)\n",
    "\n",
    "regr = linear_model.LinearRegression()\n",
    "regr.fit(scaledX, y)\n",
    "\n",
    "scaled = scale.transform([[2300, 1.3]])\n",
    "\n",
    "predictedCO2 = regr.predict([scaled[0]])\n",
    "print(predictedCO2)"
   ]
  },
  {
   "cell_type": "code",
   "execution_count": 84,
   "metadata": {},
   "outputs": [],
   "source": [
    "# Train Test model- used to check the accuracy of the model\n",
    "#You train the model using the training set -create the model with this set\n",
    "#You test the model using the testing set- check the accuracy with this model"
   ]
  },
  {
   "cell_type": "markdown",
   "metadata": {},
   "source": [
    "### NUMPY TUTORIAL\n",
    "Numerical python library used to work with arrays"
   ]
  },
  {
   "cell_type": "code",
   "execution_count": null,
   "metadata": {},
   "outputs": [],
   "source": []
  }
 ],
 "metadata": {
  "kernelspec": {
   "display_name": "Python 3",
   "language": "python",
   "name": "python3"
  },
  "language_info": {
   "codemirror_mode": {
    "name": "ipython",
    "version": 3
   },
   "file_extension": ".py",
   "mimetype": "text/x-python",
   "name": "python",
   "nbconvert_exporter": "python",
   "pygments_lexer": "ipython3",
   "version": "3.8.5"
  }
 },
 "nbformat": 4,
 "nbformat_minor": 4
}
